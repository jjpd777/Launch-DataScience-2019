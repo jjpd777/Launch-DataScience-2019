{
 "cells": [
  {
   "cell_type": "markdown",
   "metadata": {},
   "source": [
    "# Introduction to Pandas\n",
    "\n",
    "## Packages\n",
    "\n",
    "We will use many packages in this data science program. Recall, we download packages in the <b> terminal</b> using \n",
    "```terminal    \n",
    "    pip (or conda) install package_name\n",
    "```\n",
    "or in a <b> Jupyter notebook cell</b>,\n",
    "\n",
    "```\n",
    "    !pip install package_name\n",
    "```\n",
    "\n",
    "A Python module is simply a Python source file, which can expose classes, functions and global variables. A Python package is simply a directory of Python module(s).\n",
    "\n",
    "We then must <b> import packages</b> we have downloaded to use functions and other components of the package within our jupyter notebook with the following command:"
   ]
  },
  {
   "cell_type": "code",
   "execution_count": null,
   "metadata": {},
   "outputs": [],
   "source": [
    "# Note that there is no output when you import a package\n",
    "import numpy as np\n",
    "import pandas as pd"
   ]
  },
  {
   "cell_type": "markdown",
   "metadata": {},
   "source": [
    "Example of packages/modules we will use are: Numpy, pandas, matplotlib, scikit-learn"
   ]
  },
  {
   "cell_type": "markdown",
   "metadata": {},
   "source": [
    "## What is NumPy? \n",
    "\n",
    "NumPy stands for ‘Numerical Python’ or ‘Numeric Python’. It is an open source module of Python which provides fast mathematical computation on arrays and matrices.  \n",
    "\n",
    "We will not cover NumPy in great detail, but realize that NumPy arrays and matrices are a fundamental building block of the Python Machine Learning ecosystem. \n",
    "\n",
    "For more information on how Numpy Arrays work \"under the hood\" check out its [documentation](https://docs.scipy.org/doc/numpy/reference/internals.html)\n",
    "\n",
    "Jake VanderPlas, one of the core contributors to the machine learning package Sci-kit Learn, created the image above, and he wrote a really great article explaining why Python is generally slow, linked [here](https://jakevdp.github.io/blog/2014/05/09/why-python-is-slow/). "
   ]
  },
  {
   "cell_type": "markdown",
   "metadata": {
    "collapsed": true
   },
   "source": [
    "## What is Pandas?\n",
    "Pandas is a package that makes it easy to use for data manipulation and analysis within Python through its use of two data structures: Series (1D) and DataFrames (2D). Pandas is fast and powerful because it is built on the NumPy arrays we learned about earlier."
   ]
  },
  {
   "cell_type": "markdown",
   "metadata": {},
   "source": [
    "## Pandas Series\n",
    "\n",
    "A **Series** is a one-dimensional NumPy array with indices. The data in the array can be of any type (integers, strings, dictionaries, etc.), and the indices should be unique values. In most cases, indices are strings, integers, or dates. Series are used to build DataFrames, which we'll talk about very soon.\n",
    "\n",
    "### Creating a Series\n",
    "The simplest way to make a series is with a list, however there are other ways that you may look up if you would like."
   ]
  },
  {
   "cell_type": "code",
   "execution_count": null,
   "metadata": {},
   "outputs": [],
   "source": [
    "list1 = ['First', 'Second', 'Third', 'Fourth']\n",
    "s1 = pd.Series(list1)\n",
    "print(\"hello\")"
   ]
  },
  {
   "cell_type": "markdown",
   "metadata": {},
   "source": [
    "In Pandas, the data type of strings, or values that contain characters and numbers, are called **objects**\n",
    "\n",
    "If you have a mix of numbers and strings within a Series, then the datatypes of the Series will be objects."
   ]
  },
  {
   "cell_type": "code",
   "execution_count": null,
   "metadata": {},
   "outputs": [],
   "source": [
    "s1"
   ]
  },
  {
   "cell_type": "markdown",
   "metadata": {},
   "source": [
    "### Getting the index of a Series"
   ]
  },
  {
   "cell_type": "code",
   "execution_count": null,
   "metadata": {},
   "outputs": [],
   "source": [
    "s1.index"
   ]
  },
  {
   "cell_type": "markdown",
   "metadata": {},
   "source": [
    "### Changing the index of a Series"
   ]
  },
  {
   "cell_type": "code",
   "execution_count": null,
   "metadata": {},
   "outputs": [],
   "source": [
    "s1.index = ['one','two','three','four']\n",
    "s1"
   ]
  },
  {
   "cell_type": "markdown",
   "metadata": {},
   "source": [
    "### Applying an operation to every item in a Series"
   ]
  },
  {
   "cell_type": "code",
   "execution_count": null,
   "metadata": {},
   "outputs": [],
   "source": [
    "# A Series of strings to manipulate\n",
    "s2 = pd.Series(['a','bkj','chf','d','ejh','f','gh'])\n",
    "\n",
    "# Use a lambda (anonamous) function inside of the .apply() method to change all of the characters in s2 to upper case\n",
    "s2 = s2.apply(lambda x: x.upper())\n",
    "s2"
   ]
  },
  {
   "cell_type": "code",
   "execution_count": null,
   "metadata": {},
   "outputs": [],
   "source": [
    "import pandas as pd\n",
    "\n",
    "s1 = pd.Series([\"First\", \"Second\", \"Third\", \"Fourth\"])\n",
    "print(s1)\n",
    "print(s1)\n"
   ]
  },
  {
   "cell_type": "code",
   "execution_count": null,
   "metadata": {},
   "outputs": [],
   "source": [
    "x = pd.Series([1,2,3,4], index = [\"a\", \"b\", \"c\",\"d\"])\n",
    "y = pd.Series([5,6,7,8], index = [\"b\", \"c\", \"d\",\"e\"])\n",
    "z = x + y # Adds based on the index \n",
    "print(z)"
   ]
  },
  {
   "cell_type": "markdown",
   "metadata": {},
   "source": [
    "Notice: Pandas fills any unknown values with \"NaN\". Adding the two series, Pandas didn't know how to add 1 + \"NaN\" for the A index so the result is also \"NaN.\" This is important because you will likely have to deal with missing \"NaN\" values when cleaning datasets."
   ]
  },
  {
   "cell_type": "markdown",
   "metadata": {},
   "source": [
    "### Sorting Values"
   ]
  },
  {
   "cell_type": "code",
   "execution_count": null,
   "metadata": {},
   "outputs": [],
   "source": [
    "# A Series of numbers to sort\n",
    "s3 = pd.Series([5,8,6,2,4,1,3,9,0,7])\n",
    "\n",
    "# s3 sorted\n",
    "s3.sort_values(ascending = True)"
   ]
  },
  {
   "cell_type": "markdown",
   "metadata": {},
   "source": [
    "### Getting the counts of distinct values in a Series"
   ]
  },
  {
   "cell_type": "code",
   "execution_count": null,
   "metadata": {},
   "outputs": [],
   "source": [
    "# A series of fruit\n",
    "s4 = pd.Series(['apple','orange','pear','apple','orange','apple'])\n",
    "\n",
    "# The counts of all of the distinct values in s4\n",
    "s4.value_counts()"
   ]
  },
  {
   "cell_type": "markdown",
   "metadata": {},
   "source": [
    "These functions can be applied to the columns of a dataframe, since the columns in a DataFrame are Series…"
   ]
  },
  {
   "cell_type": "markdown",
   "metadata": {},
   "source": [
    "## DataFrames\n",
    "A DataFrame is a 2-Dimensional Pandas data structure with labeled rows and columns. Each row shares a common index value. Each column of a DataFrame is a Series itself. There are many, many ways of creating a DataFrame. We'll go over one way, and you'll learn more as you use Pandas. \n",
    "\n",
    "This image illustrates a few ways that may be useful: ![](pandas-dataframe-shadow.png)\n",
    "\n",
    "Let's create a DataFrame using a dictionary of Series"
   ]
  },
  {
   "cell_type": "code",
   "execution_count": null,
   "metadata": {},
   "outputs": [],
   "source": [
    "makes = pd.Series(['Ford','Audi','Toyota','Fiat'])\n",
    "models = pd.Series(['GT','R8','Camry','Panda'])\n",
    "\n",
    "cars = pd.DataFrame({'make':makes, 'model':models})\n",
    "cars"
   ]
  },
  {
   "cell_type": "markdown",
   "metadata": {},
   "source": [
    "### Getting the column names of a dataframe"
   ]
  },
  {
   "cell_type": "code",
   "execution_count": null,
   "metadata": {
    "collapsed": true
   },
   "outputs": [],
   "source": [
    "cars.columns"
   ]
  },
  {
   "cell_type": "markdown",
   "metadata": {},
   "source": [
    "### Changing column names"
   ]
  },
  {
   "cell_type": "code",
   "execution_count": null,
   "metadata": {
    "collapsed": true
   },
   "outputs": [],
   "source": [
    "cars.columns = ['Make','Model']\n",
    "print(cars.columns)\n",
    "cars"
   ]
  },
  {
   "cell_type": "markdown",
   "metadata": {},
   "source": [
    "### Adding columns to a DataFrame"
   ]
  },
  {
   "cell_type": "code",
   "execution_count": null,
   "metadata": {
    "collapsed": true
   },
   "outputs": [],
   "source": [
    "# adding a price column from a Series\n",
    "cars['Price'] = pd.Series([139995, 164900, 23495, 23490])\n",
    "# adding a price column from a list\n",
    "cars['Quantity_Sold'] = [100,150,350, 250]\n",
    "\n",
    "cars"
   ]
  },
  {
   "cell_type": "markdown",
   "metadata": {},
   "source": [
    "Notice that making a column with a series and with a list yield the same outcome. This is because the new column is converted into a series automatically when added to the DataFrame, no matter the form."
   ]
  },
  {
   "cell_type": "markdown",
   "metadata": {},
   "source": [
    "### \"Engineering\" a new column using other columns"
   ]
  },
  {
   "cell_type": "code",
   "execution_count": null,
   "metadata": {
    "collapsed": true
   },
   "outputs": [],
   "source": [
    "#feature engineering\n",
    "cars['Revenue'] = cars['Price'] * cars['Quantity_Sold']\n",
    "\n",
    "cars"
   ]
  },
  {
   "cell_type": "markdown",
   "metadata": {},
   "source": [
    "### Removing columns\n",
    "\n",
    "The **.drop()** method will return a DataFrame without the specified rows or columns. \n",
    "\n",
    "The **axis** argument is used to indicate whether or not to drop rows or columns and the **inplace** argument is used to indicate whether the function should simply return a DataFrame, or edit the original one directly. These two arguments appear in many Pandas methods and so you will likely come across them again.\n",
    "\n",
    "For this example we will first create a column of NaN's to later delete as an example…"
   ]
  },
  {
   "cell_type": "code",
   "execution_count": null,
   "metadata": {
    "collapsed": true
   },
   "outputs": [],
   "source": [
    "#create column of NaNs\n",
    "cars['toDelete'] = np.nan\n",
    "cars"
   ]
  },
  {
   "cell_type": "code",
   "execution_count": null,
   "metadata": {
    "collapsed": true
   },
   "outputs": [],
   "source": [
    "#Delete \"toDelete\" column..\n",
    "cars.drop('toDelete', axis= 1, inplace = True)\n",
    "cars"
   ]
  },
  {
   "cell_type": "markdown",
   "metadata": {},
   "source": [
    "### Setting the index of a DataFrame\n",
    "\n",
    "You won't always want to keep the default index of your DataFrame, so here we will make the index the 'Make' column "
   ]
  },
  {
   "cell_type": "code",
   "execution_count": 41,
   "metadata": {},
   "outputs": [
    {
     "name": "stdout",
     "output_type": "stream",
     "text": [
      "           Model   Price\n",
      "Honda      Civic  699.99\n",
      "Toyota     Camry  999.99\n",
      "Hyundai  Elantra  799.99\n",
      "Ford       Focus  899.99\n"
     ]
    }
   ],
   "source": [
    "# You can add rows by using the loc function\n",
    "cars_df.loc[\"Ford\"] = [\"Focus\", 899.99]\n",
    "print(cars_df)"
   ]
  },
  {
   "cell_type": "code",
   "execution_count": 42,
   "metadata": {},
   "outputs": [
    {
     "name": "stdout",
     "output_type": "stream",
     "text": [
      "           Model   Price\n",
      "Honda      Civic  699.99\n",
      "Toyota     Camry  999.99\n",
      "Hyundai  Elantra  799.99\n",
      "           Model   Price\n",
      "Honda      Civic  699.99\n",
      "Toyota     Camry  999.99\n",
      "Hyundai  Elantra  799.99\n",
      "Ford       Focus  899.99\n"
     ]
    }
   ],
   "source": [
    "# # You can delete rows by using the drop function, which returns a DF without the selected row\n",
    "# print(cars_df)\n",
    "# print()\n",
    "print(cars_df.drop('Ford'))\n",
    "print(cars_df)"
   ]
  },
  {
   "cell_type": "code",
   "execution_count": null,
   "metadata": {
    "collapsed": true
   },
   "outputs": [],
   "source": [
    "# Inplace as true will change the DataFrame itself and returns nothing\n",
    "cars_df.drop('Ford', inplace=True)\n",
    "print(cars_df)"
   ]
  },
  {
   "cell_type": "markdown",
   "metadata": {},
   "source": [
    "Let's add some more cars to the dataframe\n"
   ]
  },
  {
   "cell_type": "code",
   "execution_count": 44,
   "metadata": {},
   "outputs": [
    {
     "name": "stdout",
     "output_type": "stream",
     "text": [
      "           Model   Price\n",
      "Honda      Civic  699.99\n",
      "Toyota     Camry  999.99\n",
      "Hyundai  Elantra  799.99\n",
      "\n",
      "            Model    Price\n",
      "Ford        Focus   899.99\n",
      "Mercedes  S Class  1299.99\n",
      "Infiniti      Q60  1099.99\n",
      "Nissan       370Z  1499.99\n",
      "\n",
      "            Model    Price\n",
      "Honda       Civic   699.99\n",
      "Toyota      Camry   999.99\n",
      "Hyundai   Elantra   799.99\n",
      "Ford        Focus   899.99\n",
      "Mercedes  S Class  1299.99\n",
      "Infiniti      Q60  1099.99\n",
      "Nissan       370Z  1499.99\n"
     ]
    }
   ],
   "source": [
    "cars_df.loc[\"Ford\"] = [\"Focus\", 899.99]\n",
    "cars_df.loc[\"Mercedes\"] = [\"S Class\", 1299.99]\n",
    "cars_df.loc[\"Infiniti\"] = [\"Q60\", 1099.99]\n",
    "cars_df.loc[\"Nissan\"] = [\"370Z\", 1499.99]\n",
    "\n",
    "# Print first 5\n",
    "print(cars_df.head(3)) \n",
    "print()\n",
    "\n",
    "# Print last 5\n",
    "print(cars_df.tail(4))\n",
    "print()\n",
    "\n",
    "# Print all\n",
    "print(cars_df)\n"
   ]
  },
  {
   "cell_type": "markdown",
   "metadata": {},
   "source": [
    "Adding, setting, and deleting columns are like operating with dictionaries\n"
   ]
  },
  {
   "cell_type": "code",
   "execution_count": 45,
   "metadata": {},
   "outputs": [
    {
     "name": "stdout",
     "output_type": "stream",
     "text": [
      "            Model    Price  Quantity Door_Style   Revenue\n",
      "Honda       Civic   699.99       100      Sedan   69999.0\n",
      "Toyota      Camry   999.99       200      Sedan  199998.0\n",
      "Hyundai   Elantra   799.99       300      Sedan  239997.0\n",
      "Ford        Focus   899.99       400      Sedan  359996.0\n",
      "Mercedes  S Class  1299.99       300      Coupe  389997.0\n",
      "Infiniti      Q60  1099.99       100      Coupe  109999.0\n",
      "Nissan       370Z  1499.99       200      Coupe  299998.0\n"
     ]
    }
   ],
   "source": [
    "cars_df[\"Quantity\"] = [100, 200, 300, 400, 300, 100, 200]\n",
    "cars_df[\"Door_Style\"] = [\"Sedan\", \"Sedan\", \"Sedan\", \"Sedan\", \"Coupe\", \"Coupe\", \"Coupe\"]\n",
    "cars_df[\"Revenue\"] = cars_df[\"Price\"]*cars_df[\"Quantity\"]\n",
    "print(cars_df)"
   ]
  },
  {
   "cell_type": "code",
   "execution_count": 46,
   "metadata": {},
   "outputs": [
    {
     "name": "stdout",
     "output_type": "stream",
     "text": [
      "            Price  Quantity Door_Style   Revenue\n",
      "Honda      699.99       100      Sedan   69999.0\n",
      "Toyota     999.99       200      Sedan  199998.0\n",
      "Hyundai    799.99       300      Sedan  239997.0\n",
      "Ford       899.99       400      Sedan  359996.0\n",
      "Mercedes  1299.99       300      Coupe  389997.0\n",
      "Infiniti  1099.99       100      Coupe  109999.0\n",
      "Nissan    1499.99       200      Coupe  299998.0\n",
      "\n",
      "            Model    Price  Quantity Door_Style   Revenue\n",
      "Honda       Civic   699.99       100      Sedan   69999.0\n",
      "Toyota      Camry   999.99       200      Sedan  199998.0\n",
      "Hyundai   Elantra   799.99       300      Sedan  239997.0\n",
      "Ford        Focus   899.99       400      Sedan  359996.0\n",
      "Mercedes  S Class  1299.99       300      Coupe  389997.0\n",
      "Infiniti      Q60  1099.99       100      Coupe  109999.0\n",
      "Nissan       370Z  1499.99       200      Coupe  299998.0\n"
     ]
    }
   ],
   "source": [
    "# let's drop the 'Model' column \n",
    "del cars_df[\"Model\"]\n",
    "# can also use: cars_df.drop('Model', 1, inplace = True)\n",
    "print(cars_df)\n",
    "print()\n",
    "# Let's reinsert the Model column again back in its original position\n",
    "cars_df.insert(0, \"Model\",[\"Civic\", \"Camry\", \"Elantra\", \"Focus\", \"S Class\", \"Q60\", \"370Z\"]) \n",
    "print(cars_df)"
   ]
  },
  {
   "cell_type": "code",
   "execution_count": 47,
   "metadata": {},
   "outputs": [
    {
     "name": "stdout",
     "output_type": "stream",
     "text": [
      "            Model    Price  Quantity   Revenue Door_Style\n",
      "Honda       Civic   699.99       100   69999.0      Sedan\n",
      "Toyota      Camry   999.99       200  199998.0      Sedan\n",
      "Hyundai   Elantra   799.99       300  239997.0      Sedan\n",
      "Ford        Focus   899.99       400  359996.0      Sedan\n",
      "Mercedes  S Class  1299.99       300  389997.0      Coupe\n",
      "Infiniti      Q60  1099.99       100  109999.0      Coupe\n",
      "Nissan       370Z  1499.99       200  299998.0      Coupe\n"
     ]
    }
   ],
   "source": [
    "# Moving a column to a different position\n",
    "\n",
    "rev = cars_df.pop(\"Revenue\") # returns a column, which is removed from the data frame (Think CTRL-X)\n",
    "cars_df.insert(3, \"Revenue\", rev) # CTRL-V\n",
    "print(cars_df)"
   ]
  },
  {
   "cell_type": "markdown",
   "metadata": {},
   "source": [
    "## Indexing a DataFrame\n",
    "There are multiple ways of indexing a DataFrame. \n",
    "\n",
    "To get a column, we just put the column name within square brackets, or use '.' notation"
   ]
  },
  {
   "cell_type": "code",
   "execution_count": 48,
   "metadata": {},
   "outputs": [
    {
     "name": "stdout",
     "output_type": "stream",
     "text": [
      "Honda         Civic\n",
      "Toyota        Camry\n",
      "Hyundai     Elantra\n",
      "Ford          Focus\n",
      "Mercedes    S Class\n",
      "Infiniti        Q60\n",
      "Nissan         370Z\n",
      "Name: Model, dtype: object\n",
      "\n",
      "Honda         Civic\n",
      "Toyota        Camry\n",
      "Hyundai     Elantra\n",
      "Ford          Focus\n",
      "Mercedes    S Class\n",
      "Infiniti        Q60\n",
      "Nissan         370Z\n",
      "Name: Model, dtype: object\n"
     ]
    }
   ],
   "source": [
    "print(cars_df[\"Model\"])\n",
    "print()\n",
    "print(cars_df.Model)\n",
    "\n",
    "# The output is a Series with the left-hand column as the index, and the right hand column as the column values"
   ]
  },
  {
   "cell_type": "markdown",
   "metadata": {},
   "source": [
    "To get a row or index, there are two ways. \n",
    "* .loc[label] will select the row by its label \n",
    "* .iloc[integer_location] will select the row by its integer location of the index\n"
   ]
  },
  {
   "cell_type": "code",
   "execution_count": 50,
   "metadata": {},
   "outputs": [
    {
     "name": "stdout",
     "output_type": "stream",
     "text": [
      "Model          Camry\n",
      "Price         999.99\n",
      "Quantity         200\n",
      "Revenue       199998\n",
      "Door_Style     Sedan\n",
      "Name: Toyota, dtype: object\n",
      "\n",
      "Model          Camry\n",
      "Price         999.99\n",
      "Quantity         200\n",
      "Revenue       199998\n",
      "Door_Style     Sedan\n",
      "Name: Toyota, dtype: object\n"
     ]
    }
   ],
   "source": [
    "print(cars_df.loc[\"Toyota\"])\n",
    "\n",
    "print()\n",
    "\n",
    "# In cars_df, the Toyota is the 2nd index in the df, so it corresponds to \"1\" in indexing (Indexing starts at 0)\n",
    "print(cars_df.iloc[1])\n"
   ]
  },
  {
   "cell_type": "markdown",
   "metadata": {},
   "source": [
    "We can also print multiple rows by taking an index list argument.\n",
    "\n",
    "Suppose we want info on just Honda and Toyota…"
   ]
  },
  {
   "cell_type": "code",
   "execution_count": 51,
   "metadata": {},
   "outputs": [
    {
     "name": "stdout",
     "output_type": "stream",
     "text": [
      "        Model   Price  Quantity   Revenue Door_Style\n",
      "Honda   Civic  699.99       100   69999.0      Sedan\n",
      "Toyota  Camry  999.99       200  199998.0      Sedan\n",
      "\n",
      "        Model   Price  Quantity   Revenue Door_Style\n",
      "Honda   Civic  699.99       100   69999.0      Sedan\n",
      "Toyota  Camry  999.99       200  199998.0      Sedan\n",
      "\n",
      "        Model   Price  Quantity   Revenue Door_Style\n",
      "Honda   Civic  699.99       100   69999.0      Sedan\n",
      "Toyota  Camry  999.99       200  199998.0      Sedan\n"
     ]
    }
   ],
   "source": [
    "# Notice that the output is a DataFrame\n",
    "print(cars_df.loc[ [\"Honda\", \"Toyota\"] ])\n",
    "print()\n",
    "# We can also do the same with .iloc[], except use slicing\n",
    "print(cars_df.iloc[0:2])\n",
    "print()\n",
    "# A more convenient way of doing this is:\n",
    "print(cars_df[0:2])"
   ]
  },
  {
   "cell_type": "markdown",
   "metadata": {},
   "source": [
    "Lastly, we can select rows using boolean indexing"
   ]
  },
  {
   "cell_type": "code",
   "execution_count": 52,
   "metadata": {},
   "outputs": [
    {
     "name": "stdout",
     "output_type": "stream",
     "text": [
      "            Model    Price  Quantity   Revenue Door_Style  High_rev\n",
      "Honda       Civic   699.99       100   69999.0      Sedan     False\n",
      "Toyota      Camry   999.99       200  199998.0      Sedan      True\n",
      "Hyundai   Elantra   799.99       300  239997.0      Sedan      True\n",
      "Ford        Focus   899.99       400  359996.0      Sedan      True\n",
      "Mercedes  S Class  1299.99       300  389997.0      Coupe      True\n",
      "Infiniti      Q60  1099.99       100  109999.0      Coupe     False\n",
      "Nissan       370Z  1499.99       200  299998.0      Coupe      True\n",
      "\n",
      "            Model    Price  Quantity   Revenue Door_Style  High_rev\n",
      "Toyota      Camry   999.99       200  199998.0      Sedan      True\n",
      "Hyundai   Elantra   799.99       300  239997.0      Sedan      True\n",
      "Ford        Focus   899.99       400  359996.0      Sedan      True\n",
      "Mercedes  S Class  1299.99       300  389997.0      Coupe      True\n",
      "Nissan       370Z  1499.99       200  299998.0      Coupe      True\n",
      "\n",
      "          Model    Price  Quantity   Revenue Door_Style  High_rev\n",
      "Honda     Civic   699.99       100   69999.0      Sedan     False\n",
      "Infiniti    Q60  1099.99       100  109999.0      Coupe     False\n"
     ]
    }
   ],
   "source": [
    "cars_df[\"High_rev\"] = cars_df[\"Revenue\"]>150000\n",
    "print(cars_df)\n",
    "print()\n",
    "\n",
    "# Let's select cars that only earn high revenues\n",
    "print(cars_df.loc[(cars_df[\"High_rev\"])])\n",
    "print() \n",
    "\n",
    "# Let's select cars that only earn low revenues\n",
    "print(cars_df.loc[-(cars_df[\"High_rev\"])])"
   ]
  },
  {
   "cell_type": "code",
   "execution_count": 53,
   "metadata": {},
   "outputs": [
    {
     "data": {
      "text/html": [
       "<div>\n",
       "<style>\n",
       "    .dataframe thead tr:only-child th {\n",
       "        text-align: right;\n",
       "    }\n",
       "\n",
       "    .dataframe thead th {\n",
       "        text-align: left;\n",
       "    }\n",
       "\n",
       "    .dataframe tbody tr th {\n",
       "        vertical-align: top;\n",
       "    }\n",
       "</style>\n",
       "<table border=\"1\" class=\"dataframe\">\n",
       "  <thead>\n",
       "    <tr style=\"text-align: right;\">\n",
       "      <th></th>\n",
       "      <th>Model</th>\n",
       "      <th>Price</th>\n",
       "      <th>Quantity</th>\n",
       "      <th>Revenue</th>\n",
       "      <th>Door_Style</th>\n",
       "      <th>High_rev</th>\n",
       "    </tr>\n",
       "  </thead>\n",
       "  <tbody>\n",
       "    <tr>\n",
       "      <th>Toyota</th>\n",
       "      <td>Camry</td>\n",
       "      <td>999.99</td>\n",
       "      <td>200</td>\n",
       "      <td>199998.0</td>\n",
       "      <td>Sedan</td>\n",
       "      <td>True</td>\n",
       "    </tr>\n",
       "    <tr>\n",
       "      <th>Hyundai</th>\n",
       "      <td>Elantra</td>\n",
       "      <td>799.99</td>\n",
       "      <td>300</td>\n",
       "      <td>239997.0</td>\n",
       "      <td>Sedan</td>\n",
       "      <td>True</td>\n",
       "    </tr>\n",
       "    <tr>\n",
       "      <th>Ford</th>\n",
       "      <td>Focus</td>\n",
       "      <td>899.99</td>\n",
       "      <td>400</td>\n",
       "      <td>359996.0</td>\n",
       "      <td>Sedan</td>\n",
       "      <td>True</td>\n",
       "    </tr>\n",
       "    <tr>\n",
       "      <th>Mercedes</th>\n",
       "      <td>S Class</td>\n",
       "      <td>1299.99</td>\n",
       "      <td>300</td>\n",
       "      <td>389997.0</td>\n",
       "      <td>Coupe</td>\n",
       "      <td>True</td>\n",
       "    </tr>\n",
       "    <tr>\n",
       "      <th>Nissan</th>\n",
       "      <td>370Z</td>\n",
       "      <td>1499.99</td>\n",
       "      <td>200</td>\n",
       "      <td>299998.0</td>\n",
       "      <td>Coupe</td>\n",
       "      <td>True</td>\n",
       "    </tr>\n",
       "  </tbody>\n",
       "</table>\n",
       "</div>"
      ],
      "text/plain": [
       "            Model    Price  Quantity   Revenue Door_Style  High_rev\n",
       "Toyota      Camry   999.99       200  199998.0      Sedan      True\n",
       "Hyundai   Elantra   799.99       300  239997.0      Sedan      True\n",
       "Ford        Focus   899.99       400  359996.0      Sedan      True\n",
       "Mercedes  S Class  1299.99       300  389997.0      Coupe      True\n",
       "Nissan       370Z  1499.99       200  299998.0      Coupe      True"
      ]
     },
     "execution_count": 53,
     "metadata": {},
     "output_type": "execute_result"
    }
   ],
   "source": [
    "# We can also accomplish the same task as in the previous cell in a single line:\n",
    "cars_df.loc[cars_df.Revenue > 150000]"
   ]
  },
  {
   "cell_type": "markdown",
   "metadata": {},
   "source": [
    "We can select for rows and columns at the same time"
   ]
  },
  {
   "cell_type": "code",
   "execution_count": 54,
   "metadata": {},
   "outputs": [
    {
     "name": "stdout",
     "output_type": "stream",
     "text": [
      "The number of Toyotas is: 200\n",
      "\n",
      "           Model   Price\n",
      "Hyundai  Elantra  799.99\n",
      "\n",
      "        Model   Price  Quantity\n",
      "Honda   Civic  699.99       100\n",
      "Toyota  Camry  999.99       200\n"
     ]
    }
   ],
   "source": [
    "print(\"The number of Toyotas is: \" + str(cars_df.loc[\"Toyota\"][\"Quantity\"]))\n",
    "print()\n",
    "\n",
    "# Printing Hyundai's model and price\n",
    "print(cars_df.loc[[\"Hyundai\"],[\"Model\", \"Price\"]])\n",
    "print()\n",
    "\n",
    "# Printing the first two cars and the first three columns with iloc\n",
    "print(cars_df.iloc[:2,:3])"
   ]
  },
  {
   "cell_type": "markdown",
   "metadata": {},
   "source": [
    "The fastest way to get and set single (non-array) values is using the **at** or **iat** functions\n",
    "* at function is for label lookups (like loc)\n",
    "* iat function is for integer-based label lookups (like iloc)\n"
   ]
  },
  {
   "cell_type": "code",
   "execution_count": 55,
   "metadata": {},
   "outputs": [
    {
     "name": "stdout",
     "output_type": "stream",
     "text": [
      "The number of Toyotas is: 200\n",
      "\n",
      "The number of Toyotas is: 300\n",
      "\n",
      "            Model    Price  Quantity   Revenue Door_Style  High_rev\n",
      "Honda       Civic   699.99       100   69999.0      Sedan     False\n",
      "Toyota      Camry   999.99       300  199998.0      Sedan      True\n",
      "Hyundai   Elantra   799.99       300  239997.0      Sedan      True\n",
      "Ford        Focus   899.99       400  359996.0      Sedan      True\n",
      "Mercedes  S Class  1299.99       300  389997.0      Coupe      True\n"
     ]
    }
   ],
   "source": [
    "print(\"The number of Toyotas is: \" + str(cars_df.at[\"Toyota\",\"Quantity\"]))\n",
    "print()\n",
    "\n",
    "# we can change the value of a specific cell:\n",
    "cars_df.iat[1, 2] = 300\n",
    "\n",
    "print(\"The number of Toyotas is: \" + str(cars_df.iat[1,2]))\n",
    "print()\n",
    "print(cars_df.head())"
   ]
  },
  {
   "cell_type": "markdown",
   "metadata": {},
   "source": [
    "Let's wrap up today by outputing our cars dataframe to a CSV file. "
   ]
  },
  {
   "cell_type": "code",
   "execution_count": 56,
   "metadata": {
    "collapsed": true
   },
   "outputs": [],
   "source": [
    "output = cars_df.to_csv(\"cars.csv\")"
   ]
  },
  {
   "cell_type": "markdown",
   "metadata": {},
   "source": [
    "## Other Operations"
   ]
  },
  {
   "cell_type": "code",
   "execution_count": null,
   "metadata": {
    "collapsed": true
   },
   "outputs": [],
   "source": [
    "# Importing data from a csv"
   ]
  },
  {
   "cell_type": "code",
   "execution_count": null,
   "metadata": {
    "collapsed": true
   },
   "outputs": [],
   "source": [
    "# Prints the mean of all the numeric columns\n",
    "print(cars_df.mean())\n",
    "print()\n",
    "\n",
    "# Print summary statistics\n",
    "# Very useful for exploratory data analysis! \n",
    "print(cars_df.describe())\n",
    "?pd.DataFrame.describe()\n",
    "print()\n",
    "\n",
    "# You can apply lambda(anonymous) functions to certain columns in your dataframe for quick manipulations\n",
    "print(cars_df[\"Model\"].apply(lambda x: x.upper()))"
   ]
  },
  {
   "cell_type": "code",
   "execution_count": null,
   "metadata": {
    "collapsed": true
   },
   "outputs": [],
   "source": [
    "# Querying / Filtering\n",
    "print(cars_df)\n",
    "print()\n",
    "# Select car models that are 'coupe' styled and earn high revenue\n",
    "print(cars_df.query('Door_Style==\"Coupe\" & High_rev'))\n",
    "print()"
   ]
  },
  {
   "cell_type": "code",
   "execution_count": null,
   "metadata": {
    "collapsed": true
   },
   "outputs": [],
   "source": [
    "# Grouping summaries\n",
    "print(cars_df.groupby('Door_Style').mean())\n",
    "print()\n",
    "\n",
    "# Just the mean of the revenues for each door_style\n",
    "print(cars_df.groupby('Door_Style')[\"Revenue\"].mean())\n",
    "print()\n",
    "\n",
    "# Multiple grouping options\n",
    "print(cars_df.groupby(['Door_Style', \"High_rev\"]).mean())\n",
    "print()\n",
    "\n",
    "# Multiple grouping and selecting specific columns\n",
    "print(cars_df.groupby(['Door_Style', \"High_rev\"])['Price', 'Quantity'].mean())"
   ]
  },
  {
   "cell_type": "code",
   "execution_count": null,
   "metadata": {
    "collapsed": true
   },
   "outputs": [],
   "source": [
    "# Binning data into categories\n",
    "percentiles = [0, cars_df[\"Price\"].quantile(0.25), cars_df[\"Price\"].quantile(0.75), cars_df[\"Price\"].max()]\n",
    "price_type = [\"Inexpensive\", \"Midrange\", \"Luxury\"]\n",
    "\n",
    "# The cut function is useful for taking continuous variables, like price, and making them categorical!\n",
    "cars_df[\"Price_type\"] = pd.cut(cars_df['Price'], percentiles, labels=price_type)\n",
    "print(cars_df)\n",
    "\n",
    "# But the values in \"Price_type\" aren't true categories yet..."
   ]
  },
  {
   "cell_type": "code",
   "execution_count": null,
   "metadata": {
    "collapsed": true
   },
   "outputs": [],
   "source": [
    "# Take the price_type values and turn them into categories (faster operations under the hood)\n",
    "# Notice the order of the categoricals\n",
    "cars_df[\"Price_type\"] = cars_df[\"Price_type\"].astype(\"category\")\n",
    "print(cars_df[\"Price_type\"])\n",
    "print()\n",
    "print(\"Is the Series ordered? \" + str(cars_df[\"Price_type\"].cat.ordered))\n",
    "\n",
    "cars_df[\"Price_type\"] = cars_df[\"Price_type\"].cat.as_unordered()\n",
    "print(\"Is the Series ordered? \" + str(cars_df[\"Price_type\"].cat.ordered))"
   ]
  },
  {
   "cell_type": "code",
   "execution_count": null,
   "metadata": {
    "collapsed": true
   },
   "outputs": [],
   "source": [
    "# We are currently in the wrong order! \n",
    "    # Inexpensive < Luxury < Midrange\n",
    "# Let's change it to the right order:\n",
    "    # Inexpensive < Midrange < Luxury\n",
    "cars_df[\"Price_type\"] = cars_df[\"Price_type\"].cat.reorder_categories([\"Inexpensive\",\"Midrange\",\"Luxury\"], ordered=True)\n",
    "\n",
    "print(cars_df[\"Price_type\"])\n",
    "print()\n",
    "print(cars_df.sort_values(by=\"Price_type\")) # Try changing \"Price_type\" to \"Revenue\"! \n"
   ]
  },
  {
   "cell_type": "code",
   "execution_count": null,
   "metadata": {
    "collapsed": true,
    "scrolled": true
   },
   "outputs": [],
   "source": [
    "print(cars_df[\"Price_type\"].value_counts())\n",
    "print()\n",
    "print(cars_df[\"Price_type\"].describe())\n",
    "print()\n",
    "print(cars_df.groupby(\"Price_type\")[\"Revenue\"].sum())"
   ]
  },
  {
   "cell_type": "markdown",
   "metadata": {},
   "source": [
    "# Exercises\n",
    "\n",
    "Here is a link to a github repo with lots of good Pandas exercises: https://github.com/guipsamora/pandas_exercises"
   ]
  },
  {
   "cell_type": "markdown",
   "metadata": {},
   "source": [
    "## Sources:\n",
    "\n",
    "Adapted from https://cloudxlab.com/blog/numpy-pandas-introduction/\n",
    "\n",
    "Adapted from NumPy's QuickStart Tutorial\n",
    "* https://docs.scipy.org/doc/numpy-dev/user/quickstart.html\n",
    "\n",
    "Adapted from Pandas Documentation\n",
    "* https://pandas.pydata.org/pandas-docs/stable/10min.html\n",
    "* https://pandas.pydata.org/pandas-docs/stable/dsintro.html"
   ]
  },
  {
   "cell_type": "code",
   "execution_count": null,
   "metadata": {
    "collapsed": true
   },
   "outputs": [],
   "source": []
  }
 ],
 "metadata": {
  "kernelspec": {
   "display_name": "Python 3",
   "language": "python",
   "name": "python3"
  },
  "language_info": {
   "codemirror_mode": {
    "name": "ipython",
    "version": 3
   },
   "file_extension": ".py",
   "mimetype": "text/x-python",
   "name": "python",
   "nbconvert_exporter": "python",
   "pygments_lexer": "ipython3",
   "version": "3.6.3"
  }
 },
 "nbformat": 4,
 "nbformat_minor": 2
}
